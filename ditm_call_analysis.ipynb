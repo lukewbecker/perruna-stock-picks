{
 "cells": [
  {
   "cell_type": "code",
   "execution_count": null,
   "metadata": {},
   "outputs": [],
   "source": [
    "# Getting turn of year deep in the money call greeks and prices.\n",
    "# Goal is simple: get data for selected options on 12/31/2020 and then on current date.\n",
    "# If easy, get daily prices for selected options."
   ]
  },
  {
   "cell_type": "code",
   "execution_count": 1,
   "metadata": {},
   "outputs": [],
   "source": [
    "import numpy as np\n",
    "import pandas as pd\n",
    "from scipy import stats\n",
    "import matplotlib.pyplot as plt\n",
    "import seaborn"
   ]
  },
  {
   "cell_type": "code",
   "execution_count": 2,
   "metadata": {},
   "outputs": [],
   "source": [
    "# Alt libraries:\n",
    "\n",
    "import yfinance\n",
    "import requests\n",
    "import json\n",
    "import base64"
   ]
  },
  {
   "cell_type": "code",
   "execution_count": 3,
   "metadata": {},
   "outputs": [
    {
     "name": "stdout",
     "output_type": "stream",
     "text": [
      "Polygon.io API key loaded up.\n",
      "Cboe API key loaded up.\n",
      "TD Ameritrade API key loaded up.\n",
      "Coinbase API key loaded up.\n",
      "All credentials loaded successfully\n"
     ]
    }
   ],
   "source": [
    "import env"
   ]
  },
  {
   "cell_type": "code",
   "execution_count": null,
   "metadata": {},
   "outputs": [],
   "source": [
    "# import cboe_headers\n",
    "# cboe_headers = {'Authorization': 'Bearer ############'} #This token expires after 30 minutes.\n",
    "\n",
    "# cboe_headers_code = cboe_headers.cboe_header_bearer"
   ]
  },
  {
   "cell_type": "code",
   "execution_count": null,
   "metadata": {},
   "outputs": [],
   "source": [
    "root = 'TDOC'\n",
    "option_type = 'C'\n",
    "date = '2021-01-04'\n",
    "min_expiry = '2022-01-21'\n",
    "max_expiry = '2022-01-21'\n",
    "min_strike = '145'\n",
    "max_strike = '145'\n",
    "symbol = root"
   ]
  },
  {
   "cell_type": "code",
   "execution_count": null,
   "metadata": {},
   "outputs": [],
   "source": [
    "# Creating the client ID variables to use in getting an access token:\n",
    "client_id = env.cboe_client_id\n",
    "client_secret = env.cboe_client_secret\n",
    "\n",
    "identity_url = \"https://id.livevol.com/connect/token\"\n",
    "\n",
    "encoded = base64.b64encode((client_id + ':' + client_secret).encode())\n",
    "headers = {\"Authorization\": \"Basic \" + encoded.decode('ascii')}\n",
    "payload = {\"grant_type\": \"client_credentials\"}\n",
    "\n",
    "# Requesting access token\n",
    "token_data = requests.post(identity_url, data=payload, headers=headers)\n",
    "\n",
    "if token_data.status_code == 200:\n",
    "    token = token_data.json()['access_token']\n",
    "    if len(token) > 0:\n",
    "        print(\"Authenticated successfully\")\n",
    "        # Requesting data from API\n",
    "#         result = requests.get(f'https://api.livevol.com/v1/live/allaccess/market/option-and-underlying-quotes?root={root}&option_type={option_type}&date={date}&min_expiry={min_expiry}&max_expiry={max_expiry}&min_strike={min_strike}&max_strike={max_strike}&symbol={symbol}', headers={\"Authorization\": \"Bearer \" + token}, verify=False)\n",
    "#         print(result.json())\n",
    "else:\n",
    "    print(\"Authentication failed\")"
   ]
  },
  {
   "cell_type": "code",
   "execution_count": null,
   "metadata": {
    "scrolled": true
   },
   "outputs": [],
   "source": [
    "test_doc_data = requests.get(url = f'https://api.livevol.com/v1/live/allaccess/market/option-and-underlying-quotes?root={root}&option_type={option_type}&date={date}&min_expiry={min_expiry}&max_expiry={max_expiry}&min_strike={min_strike}&max_strike={max_strike}&symbol={symbol}', headers = {\"Authorization\": \"Bearer \" + token})\n",
    "returned_data = json.loads(test_doc_data.text)\n",
    "returned_data"
   ]
  },
  {
   "cell_type": "code",
   "execution_count": null,
   "metadata": {},
   "outputs": [],
   "source": [
    "# Have now solved pasting in new headers for authorization. Use the above code blocks to initite a new download of data."
   ]
  },
  {
   "cell_type": "code",
   "execution_count": null,
   "metadata": {},
   "outputs": [],
   "source": []
  },
  {
   "cell_type": "code",
   "execution_count": null,
   "metadata": {},
   "outputs": [],
   "source": []
  },
  {
   "cell_type": "code",
   "execution_count": null,
   "metadata": {},
   "outputs": [],
   "source": []
  },
  {
   "cell_type": "markdown",
   "metadata": {},
   "source": [
    "#### TDOC"
   ]
  },
  {
   "cell_type": "code",
   "execution_count": null,
   "metadata": {},
   "outputs": [],
   "source": [
    "# Start date: 2021-01-04\n",
    "# End date: 2021-02-25\n",
    "\n",
    "start_url = 'https://api.livevol.com/v1/delayed/allaccess/market/option-and-underlying-quotes?root=AAPL&option_type=C&date=2021-02-01&min_expiry=2021-03-19&max_expiry=2021-03-19&min_strike=130&max_strike=130&symbol=AAPL'\n",
    "\n",
    "end_url = 'https://api.livevol.com/v1/delayed/allaccess/market/option-and-underlying-quotes?root=AAPL&option_type=C&date=2021-02-24&min_expiry=2021-03-19&max_expiry=2021-03-19&min_strike=130&max_strike=130&symbol=AAPL'\n",
    "\n",
    "headers = {\"Authorization\": \"Bearer \" + token}"
   ]
  },
  {
   "cell_type": "code",
   "execution_count": null,
   "metadata": {},
   "outputs": [],
   "source": [
    "base_url = 'https://api.livevol.com/v1/delayed/allaccess/market/option-and-underlying-quotes?root={root}&option_type={option_type}&date={date}&min_expiry={min_expiry}&max_expiry={max_expiry}&min_strike={min_strike}&max_strike={max_strike}&symbol={symbol}'"
   ]
  },
  {
   "cell_type": "code",
   "execution_count": null,
   "metadata": {},
   "outputs": [],
   "source": [
    "tdoc_url = 'https://api.livevol.com/v1/delayed/allaccess/market/option-and-underlying-quotes?root=TDOC&option_type=C&date=2021-01-04&min_expiry=2022-01-21&max_expiry=2022-01-21&min_strike=130&max_strike=150&symbol=TDOC'"
   ]
  },
  {
   "cell_type": "code",
   "execution_count": null,
   "metadata": {},
   "outputs": [],
   "source": [
    "# TDOC start data:\n",
    "\n",
    "root = 'TDOC'\n",
    "option_type = 'C'\n",
    "date = '2021-01-04'\n",
    "min_expiry = '2022-01-21'\n",
    "max_expiry = '2022-01-21'\n",
    "min_strike = '145'\n",
    "max_strike = '145'\n",
    "symbol = root\n",
    "\n",
    "tdoc_start_url = f'https://api.livevol.com/v1/live/allaccess/market/option-and-underlying-quotes?root={root}&option_type={option_type}&date={date}&min_expiry={min_expiry}&max_expiry={max_expiry}&min_strike={min_strike}&max_strike={max_strike}&symbol={symbol}'\n",
    "\n",
    "# tdoc_start_url = 'https://api.livevol.com/v1/delayed/allaccess/market/option-and-underlying-quotes?root=TDOC&option_type=C&date=2021-01-04&min_expiry=2022-01-21&max_expiry=2022-01-21&min_strike=130&max_strike=150&symbol=TDOC'"
   ]
  },
  {
   "cell_type": "code",
   "execution_count": null,
   "metadata": {},
   "outputs": [],
   "source": []
  },
  {
   "cell_type": "code",
   "execution_count": null,
   "metadata": {},
   "outputs": [],
   "source": [
    "tdoc_sdata = requests.get(url = tdoc_start_url, headers = headers)\n",
    "tdoc_start_data = json.loads(tdoc_sdata.text)"
   ]
  },
  {
   "cell_type": "code",
   "execution_count": null,
   "metadata": {
    "scrolled": true
   },
   "outputs": [],
   "source": [
    "tdoc_start_data"
   ]
  },
  {
   "cell_type": "code",
   "execution_count": null,
   "metadata": {
    "scrolled": true
   },
   "outputs": [],
   "source": [
    "# TDOC end data:\n",
    "\n",
    "root = 'TDOC'\n",
    "option_type = 'C'\n",
    "date = '2021-02-25'\n",
    "min_expiry = '2022-01-21'\n",
    "max_expiry = '2022-01-21'\n",
    "min_strike = '145'\n",
    "max_strike = '145'\n",
    "symbol = root\n",
    "\n",
    "tdoc_end_url = f'https://api.livevol.com/v1/live/allaccess/market/option-and-underlying-quotes?root={root}&option_type={option_type}&date={date}&min_expiry={min_expiry}&max_expiry={max_expiry}&min_strike={min_strike}&max_strike={max_strike}&symbol={symbol}'\n",
    "\n",
    "tdoc_edata = requests.get(url = tdoc_end_url, headers = headers)\n",
    "tdoc_end_data = json.loads(tdoc_edata.text)\n",
    "tdoc_end_data"
   ]
  },
  {
   "cell_type": "code",
   "execution_count": null,
   "metadata": {},
   "outputs": [],
   "source": [
    "# The Dateframe:\n",
    "\n",
    "tdoc_df_test = pd.DataFrame(tdoc_end_data['options'][0], index = [0])\n",
    "columns_to_keep = ['root', 'expiry', 'strike', 'option_type', 'timestamp', 'option_mid', 'delta']\n",
    "\n",
    "tdoc_df_test = tdoc_df_test[[c for c in tdoc_df_test.columns if c in columns_to_keep]]\n",
    "tdoc_df_test"
   ]
  },
  {
   "cell_type": "code",
   "execution_count": null,
   "metadata": {},
   "outputs": [],
   "source": [
    "tdoc_df_test.T"
   ]
  },
  {
   "cell_type": "code",
   "execution_count": null,
   "metadata": {},
   "outputs": [],
   "source": []
  },
  {
   "cell_type": "code",
   "execution_count": null,
   "metadata": {},
   "outputs": [],
   "source": []
  },
  {
   "cell_type": "code",
   "execution_count": null,
   "metadata": {},
   "outputs": [],
   "source": []
  },
  {
   "cell_type": "code",
   "execution_count": 7,
   "metadata": {},
   "outputs": [],
   "source": [
    "# Creating a function for the start date call:\n",
    "\n",
    "# root = 'TDOC'\n",
    "# option_type = 'C'\n",
    "# date = '2021-01-04'\n",
    "# min_expiry = '2022-01-21'\n",
    "# max_expiry = '2022-01-21'\n",
    "# min_strike = '145'\n",
    "# max_strike = '145'\n",
    "# symbol = root\n",
    "\n",
    "\n",
    "def cboe_data(root, option_type, date, min_expiry, max_expiry, min_strike, max_strike, symbol, header_code):\n",
    "    \n",
    "    url = f'https://api.livevol.com/v1/live/allaccess/market/option-and-underlying-quotes?root={root}&option_type={option_type}&date={date}&min_expiry={min_expiry}&max_expiry={max_expiry}&min_strike={min_strike}&max_strike={max_strike}&symbol={symbol}'\n",
    "    \n",
    "    cboe_headers = {'Authorization': f'Bearer {header_code}'}\n",
    "    \n",
    "    \n",
    "    # Getting the data from the API:\n",
    "    stock_get = requests.get(url = url, headers = cboe_headers)\n",
    "    \n",
    "    stock_data = json.loads(stock_get.text)\n",
    "    \n",
    "    # Creating the Dataframe and cleaning up columns:\n",
    "    stock_df = pd.DataFrame(stock_data['options'][0], index = [0])\n",
    "    columns_to_keep = ['root', 'expiry', 'strike', 'option_type', 'timestamp', 'option_mid', 'option_bid', 'option_ask', 'delta', 'gamme', 'vega', 'theta', 'rho']\n",
    "    \n",
    "    # Using list comprehension to filter for the columns I want to keep\n",
    "    stock_df = stock_df[[c for c in stock_df.columns if c in columns_to_keep]]\n",
    "    \n",
    "    # Adding the as of date:\n",
    "    stock_df['as_of_date'] = date\n",
    "    \n",
    "    # Returning the df:\n",
    "    \n",
    "    return stock_df\n",
    "    "
   ]
  },
  {
   "cell_type": "code",
   "execution_count": 4,
   "metadata": {},
   "outputs": [
    {
     "name": "stdout",
     "output_type": "stream",
     "text": [
      "Authenticated successfully\n"
     ]
    }
   ],
   "source": [
    "# Creating the client ID variables to use in getting an access token:\n",
    "client_id = env.cboe_client_id\n",
    "client_secret = env.cboe_client_secret\n",
    "\n",
    "identity_url = \"https://id.livevol.com/connect/token\"\n",
    "\n",
    "encoded = base64.b64encode((client_id + ':' + client_secret).encode())\n",
    "headers = {\"Authorization\": \"Basic \" + encoded.decode('ascii')}\n",
    "payload = {\"grant_type\": \"client_credentials\"}\n",
    "\n",
    "# Requesting access token\n",
    "token_data = requests.post(identity_url, data=payload, headers=headers)\n",
    "\n",
    "if token_data.status_code == 200:\n",
    "    token = token_data.json()['access_token']\n",
    "    if len(token) > 0:\n",
    "        print(\"Authenticated successfully\")\n",
    "        # Requesting data from API\n",
    "#         result = requests.get(f'https://api.livevol.com/v1/live/allaccess/market/option-and-underlying-quotes?root={root}&option_type={option_type}&date={date}&min_expiry={min_expiry}&max_expiry={max_expiry}&min_strike={min_strike}&max_strike={max_strike}&symbol={symbol}', headers={\"Authorization\": \"Bearer \" + token}, verify=False)\n",
    "#         print(result.json())\n",
    "else:\n",
    "    print(\"Authentication failed\")"
   ]
  },
  {
   "cell_type": "code",
   "execution_count": 5,
   "metadata": {},
   "outputs": [],
   "source": [
    "# Full Function including getting the access Bearer code:\n",
    "\n",
    "\n",
    "def cboe_data_delayed(root, option_type, date, min_expiry, max_expiry, min_strike, max_strike, symbol, header_code):\n",
    "    \n",
    "    '''\n",
    "    Must use the Cboe LiveVol's API formatting for this call. This function essentially fills in the blanks for a live API call using the function arguments.\n",
    "    '''\n",
    "    \n",
    "    url = f'https://api.livevol.com/v1/delayed/allaccess/market/option-and-underlying-quotes?root={root}&option_type={option_type}&date={date}&min_expiry={min_expiry}&max_expiry={max_expiry}&min_strike={min_strike}&max_strike={max_strike}&symbol={symbol}'\n",
    "    \n",
    "    cboe_headers = {'Authorization': f'Bearer {header_code}'}\n",
    "    \n",
    "    \n",
    "    # Getting the data from the API:\n",
    "    stock_get = requests.get(url = url, headers = cboe_headers)\n",
    "    \n",
    "    stock_data = json.loads(stock_get.text)\n",
    "    \n",
    "    # Creating the Dataframe and cleaning up columns:\n",
    "    stock_df = pd.DataFrame(stock_data['options'][0], index = [0])\n",
    "    columns_to_keep = ['root', 'expiry', 'strike', 'option_type', 'timestamp', 'option_mid', 'option_bid', 'option_ask', 'delta', 'gamme', 'vega', 'theta', 'rho']\n",
    "    \n",
    "    # Using list comprehension to filter for the columns I want to keep\n",
    "    stock_df = stock_df[[c for c in stock_df.columns if c in columns_to_keep]]\n",
    "    \n",
    "    # Adding the as of date:\n",
    "    stock_df['as_of_date'] = date\n",
    "    \n",
    "    # Returning the df:\n",
    "    \n",
    "    return stock_df\n",
    "\n",
    "\n"
   ]
  },
  {
   "cell_type": "code",
   "execution_count": 8,
   "metadata": {},
   "outputs": [],
   "source": [
    "# TDOC\n",
    "\n",
    "tdoc_start_df = cboe_data(\"TDOC\", \"C\", '2021-01-04', '2022-01-21', '2022-01-21', '125', '125', \"TDOC\", token)\n",
    "tdoc_end_df = cboe_data(\"TDOC\", \"C\", '2021-02-25', '2022-01-21', '2022-01-21', '125', '125', \"TDOC\", token)"
   ]
  },
  {
   "cell_type": "code",
   "execution_count": 9,
   "metadata": {},
   "outputs": [],
   "source": [
    "# PINS\n",
    "\n",
    "pins_start_df = cboe_data(\"PINS\", \"C\", '2021-01-04', '2022-01-21', '2022-01-21', '45', '45', \"PINS\", token)\n",
    "pins_end_df = cboe_data(\"PINS\", \"C\", '2021-02-25', '2022-01-21', '2022-01-21', '45', '45', \"PINS\", token)"
   ]
  },
  {
   "cell_type": "code",
   "execution_count": 10,
   "metadata": {},
   "outputs": [
    {
     "data": {
      "text/html": [
       "<div>\n",
       "<style scoped>\n",
       "    .dataframe tbody tr th:only-of-type {\n",
       "        vertical-align: middle;\n",
       "    }\n",
       "\n",
       "    .dataframe tbody tr th {\n",
       "        vertical-align: top;\n",
       "    }\n",
       "\n",
       "    .dataframe thead th {\n",
       "        text-align: right;\n",
       "    }\n",
       "</style>\n",
       "<table border=\"1\" class=\"dataframe\">\n",
       "  <thead>\n",
       "    <tr style=\"text-align: right;\">\n",
       "      <th></th>\n",
       "      <th>root</th>\n",
       "      <th>expiry</th>\n",
       "      <th>strike</th>\n",
       "      <th>option_type</th>\n",
       "      <th>timestamp</th>\n",
       "      <th>option_mid</th>\n",
       "      <th>option_bid</th>\n",
       "      <th>option_ask</th>\n",
       "      <th>delta</th>\n",
       "      <th>vega</th>\n",
       "      <th>theta</th>\n",
       "      <th>rho</th>\n",
       "      <th>as_of_date</th>\n",
       "    </tr>\n",
       "  </thead>\n",
       "  <tbody>\n",
       "    <tr>\n",
       "      <th>0</th>\n",
       "      <td>PINS</td>\n",
       "      <td>2022-01-21</td>\n",
       "      <td>45.0</td>\n",
       "      <td>C</td>\n",
       "      <td>None</td>\n",
       "      <td>38.6</td>\n",
       "      <td>38.45</td>\n",
       "      <td>38.75</td>\n",
       "      <td>0.8788</td>\n",
       "      <td>0.1515</td>\n",
       "      <td>-0.0165</td>\n",
       "      <td>0.0</td>\n",
       "      <td>2021-02-25</td>\n",
       "    </tr>\n",
       "  </tbody>\n",
       "</table>\n",
       "</div>"
      ],
      "text/plain": [
       "   root      expiry  strike option_type timestamp  option_mid  option_bid  \\\n",
       "0  PINS  2022-01-21    45.0           C      None        38.6       38.45   \n",
       "\n",
       "   option_ask   delta    vega   theta  rho  as_of_date  \n",
       "0       38.75  0.8788  0.1515 -0.0165  0.0  2021-02-25  "
      ]
     },
     "execution_count": 10,
     "metadata": {},
     "output_type": "execute_result"
    }
   ],
   "source": [
    "pins_end_df"
   ]
  },
  {
   "cell_type": "code",
   "execution_count": 11,
   "metadata": {},
   "outputs": [
    {
     "name": "stdout",
     "output_type": "stream",
     "text": [
      "   root      expiry  strike option_type timestamp  option_mid  option_bid  \\\n",
      "0  CRWD  2022-01-21   145.0           C      None      72.875       71.45   \n",
      "\n",
      "   option_ask   delta    vega   theta  rho  as_of_date  \n",
      "0        74.3  0.8032  0.5689 -0.0422  0.0  2021-01-04  \n"
     ]
    },
    {
     "data": {
      "text/html": [
       "<div>\n",
       "<style scoped>\n",
       "    .dataframe tbody tr th:only-of-type {\n",
       "        vertical-align: middle;\n",
       "    }\n",
       "\n",
       "    .dataframe tbody tr th {\n",
       "        vertical-align: top;\n",
       "    }\n",
       "\n",
       "    .dataframe thead th {\n",
       "        text-align: right;\n",
       "    }\n",
       "</style>\n",
       "<table border=\"1\" class=\"dataframe\">\n",
       "  <thead>\n",
       "    <tr style=\"text-align: right;\">\n",
       "      <th></th>\n",
       "      <th>root</th>\n",
       "      <th>expiry</th>\n",
       "      <th>strike</th>\n",
       "      <th>option_type</th>\n",
       "      <th>timestamp</th>\n",
       "      <th>option_mid</th>\n",
       "      <th>option_bid</th>\n",
       "      <th>option_ask</th>\n",
       "      <th>delta</th>\n",
       "      <th>vega</th>\n",
       "      <th>theta</th>\n",
       "      <th>rho</th>\n",
       "      <th>as_of_date</th>\n",
       "    </tr>\n",
       "  </thead>\n",
       "  <tbody>\n",
       "    <tr>\n",
       "      <th>0</th>\n",
       "      <td>CRWD</td>\n",
       "      <td>2022-01-21</td>\n",
       "      <td>145.0</td>\n",
       "      <td>C</td>\n",
       "      <td>None</td>\n",
       "      <td>76.575</td>\n",
       "      <td>75.2</td>\n",
       "      <td>77.95</td>\n",
       "      <td>0.8292</td>\n",
       "      <td>0.5027</td>\n",
       "      <td>-0.0425</td>\n",
       "      <td>0.0</td>\n",
       "      <td>2021-02-25</td>\n",
       "    </tr>\n",
       "  </tbody>\n",
       "</table>\n",
       "</div>"
      ],
      "text/plain": [
       "   root      expiry  strike option_type timestamp  option_mid  option_bid  \\\n",
       "0  CRWD  2022-01-21   145.0           C      None      76.575        75.2   \n",
       "\n",
       "   option_ask   delta    vega   theta  rho  as_of_date  \n",
       "0       77.95  0.8292  0.5027 -0.0425  0.0  2021-02-25  "
      ]
     },
     "execution_count": 11,
     "metadata": {},
     "output_type": "execute_result"
    }
   ],
   "source": [
    "# CRWD\n",
    "\n",
    "crwd_start_df = cboe_data(\"CRWD\", \"C\", '2021-01-04', '2022-01-21', '2022-01-21', '145', '145', \"CRWD\", token)\n",
    "crwd_end_df = cboe_data(\"CRWD\", \"C\", '2021-02-25', '2022-01-21', '2022-01-21', '145', '145', \"CRWD\", token)\n",
    "\n",
    "print(crwd_start_df)\n",
    "crwd_end_df"
   ]
  },
  {
   "cell_type": "code",
   "execution_count": 12,
   "metadata": {},
   "outputs": [],
   "source": [
    "# FSLY\n",
    "\n",
    "fsly_start_df = cboe_data(\"FSLY\", \"C\", '2021-01-04', '2022-01-21', '2022-01-21', '145', '145', \"FSLY\", token)\n",
    "fsly_end_df = cboe_data(\"FSLY\", \"C\", '2021-02-25', '2022-01-21', '2022-01-21', '145', '145', \"FSLY\", token)"
   ]
  },
  {
   "cell_type": "code",
   "execution_count": 13,
   "metadata": {},
   "outputs": [],
   "source": [
    "# NET\n",
    "\n",
    "net_start_df = cboe_data(\"NET\", \"C\", '2021-01-04', '2022-01-21', '2022-01-21', '50', '50', \"NET\", token)\n",
    "net_end_df = cboe_data(\"NET\", \"C\", '2021-02-25', '2022-01-21', '2022-01-21', '50', '50', \"NET\", token)"
   ]
  },
  {
   "cell_type": "code",
   "execution_count": 14,
   "metadata": {},
   "outputs": [],
   "source": [
    "# APPS\n",
    "\n",
    "apps_start_df = cboe_data(\"APPS\", \"C\", '2021-01-04', '2022-01-21', '2022-01-21', '40', '40', \"APPS\", token)\n",
    "apps_end_df = cboe_data(\"APPS\", \"C\", '2021-02-25', '2022-01-21', '2022-01-21', '40', '40', \"APPS\", token)"
   ]
  },
  {
   "cell_type": "code",
   "execution_count": 15,
   "metadata": {},
   "outputs": [],
   "source": [
    "# DDOG\n",
    "\n",
    "ddog_start_df = cboe_data(\"DDOG\", \"C\", '2021-01-04', '2022-01-21', '2022-01-21', '65', '65', \"DDOG\", token)\n",
    "ddog_end_df = cboe_data(\"DDOG\", \"C\", '2021-02-25', '2022-01-21', '2022-01-21', '65', '65', \"DDOG\", token)"
   ]
  },
  {
   "cell_type": "code",
   "execution_count": 16,
   "metadata": {},
   "outputs": [],
   "source": [
    "# ROKU\n",
    "\n",
    "roku_start_df = cboe_data(\"ROKU\", \"C\", '2021-01-04', '2022-01-21', '2022-01-21', '240', '240', \"ROKU\", token)\n",
    "roku_end_df = cboe_data(\"ROKU\", \"C\", '2021-02-25', '2022-01-21', '2022-01-21', '240', '240', \"ROKU\", token)"
   ]
  },
  {
   "cell_type": "code",
   "execution_count": 17,
   "metadata": {},
   "outputs": [],
   "source": [
    "# ZM\n",
    "\n",
    "zm_start_df = cboe_data(\"ZM\", \"C\", '2021-01-04', '2022-01-21', '2022-01-21', '240', '240', \"ZM\", token)\n",
    "zm_end_df = cboe_data(\"ZM\", \"C\", '2021-02-25', '2022-01-21', '2022-01-21', '240', '240', \"ZM\", token)"
   ]
  },
  {
   "cell_type": "code",
   "execution_count": 18,
   "metadata": {},
   "outputs": [],
   "source": [
    "# DOCU\n",
    "\n",
    "docu_start_df = cboe_data(\"DOCU\", \"C\", '2021-01-04', '2022-01-21', '2022-01-21', '160', '160', \"DOCU\", token)\n",
    "docu_end_df = cboe_data(\"DOCU\", \"C\", '2021-02-25', '2022-01-21', '2022-01-21', '160', '160', \"DOCU\", token)"
   ]
  },
  {
   "cell_type": "code",
   "execution_count": 19,
   "metadata": {},
   "outputs": [],
   "source": [
    "# CRM\n",
    "\n",
    "crm_start_df = cboe_data(\"CRM\", \"C\", '2021-01-04', '2022-01-21', '2022-01-21', '170', '170', \"CRM\", token)\n",
    "crm_end_df = cboe_data(\"CRM\", \"C\", '2021-02-25', '2022-01-21', '2022-01-21', '170', '170', \"CRM\", token)"
   ]
  },
  {
   "cell_type": "code",
   "execution_count": 22,
   "metadata": {},
   "outputs": [],
   "source": [
    "# PGNY\n",
    "\n",
    "pgny_start_df = cboe_data(\"PGNY\", \"C\", '2021-01-04', '2021-08-20', '2021-08-20', '30', '30', \"PGNY\", token)\n",
    "pgny_end_df = cboe_data(\"PGNY\", \"C\", '2021-02-25', '2021-08-20', '2021-08-20', '30', '30', \"PGNY\", token)"
   ]
  },
  {
   "cell_type": "code",
   "execution_count": 25,
   "metadata": {},
   "outputs": [
    {
     "data": {
      "text/html": [
       "<div>\n",
       "<style scoped>\n",
       "    .dataframe tbody tr th:only-of-type {\n",
       "        vertical-align: middle;\n",
       "    }\n",
       "\n",
       "    .dataframe tbody tr th {\n",
       "        vertical-align: top;\n",
       "    }\n",
       "\n",
       "    .dataframe thead th {\n",
       "        text-align: right;\n",
       "    }\n",
       "</style>\n",
       "<table border=\"1\" class=\"dataframe\">\n",
       "  <thead>\n",
       "    <tr style=\"text-align: right;\">\n",
       "      <th></th>\n",
       "      <th>root</th>\n",
       "      <th>expiry</th>\n",
       "      <th>strike</th>\n",
       "      <th>option_type</th>\n",
       "      <th>timestamp</th>\n",
       "      <th>option_mid</th>\n",
       "      <th>option_bid</th>\n",
       "      <th>option_ask</th>\n",
       "      <th>delta</th>\n",
       "      <th>vega</th>\n",
       "      <th>theta</th>\n",
       "      <th>rho</th>\n",
       "      <th>as_of_date</th>\n",
       "    </tr>\n",
       "  </thead>\n",
       "  <tbody>\n",
       "    <tr>\n",
       "      <th>0</th>\n",
       "      <td>PGNY</td>\n",
       "      <td>2021-08-20</td>\n",
       "      <td>30.0</td>\n",
       "      <td>C</td>\n",
       "      <td>None</td>\n",
       "      <td>15.35</td>\n",
       "      <td>15.0</td>\n",
       "      <td>15.7</td>\n",
       "      <td>0.8359</td>\n",
       "      <td>0.084</td>\n",
       "      <td>-0.0115</td>\n",
       "      <td>0.0</td>\n",
       "      <td>2021-01-04</td>\n",
       "    </tr>\n",
       "  </tbody>\n",
       "</table>\n",
       "</div>"
      ],
      "text/plain": [
       "   root      expiry  strike option_type timestamp  option_mid  option_bid  \\\n",
       "0  PGNY  2021-08-20    30.0           C      None       15.35        15.0   \n",
       "\n",
       "   option_ask   delta   vega   theta  rho  as_of_date  \n",
       "0        15.7  0.8359  0.084 -0.0115  0.0  2021-01-04  "
      ]
     },
     "execution_count": 25,
     "metadata": {},
     "output_type": "execute_result"
    }
   ],
   "source": [
    "pgny_start_df"
   ]
  },
  {
   "cell_type": "code",
   "execution_count": 23,
   "metadata": {},
   "outputs": [
    {
     "data": {
      "text/html": [
       "<div>\n",
       "<style scoped>\n",
       "    .dataframe tbody tr th:only-of-type {\n",
       "        vertical-align: middle;\n",
       "    }\n",
       "\n",
       "    .dataframe tbody tr th {\n",
       "        vertical-align: top;\n",
       "    }\n",
       "\n",
       "    .dataframe thead th {\n",
       "        text-align: right;\n",
       "    }\n",
       "</style>\n",
       "<table border=\"1\" class=\"dataframe\">\n",
       "  <thead>\n",
       "    <tr style=\"text-align: right;\">\n",
       "      <th></th>\n",
       "      <th>root</th>\n",
       "      <th>expiry</th>\n",
       "      <th>strike</th>\n",
       "      <th>option_type</th>\n",
       "      <th>timestamp</th>\n",
       "      <th>option_mid</th>\n",
       "      <th>option_bid</th>\n",
       "      <th>option_ask</th>\n",
       "      <th>delta</th>\n",
       "      <th>vega</th>\n",
       "      <th>theta</th>\n",
       "      <th>rho</th>\n",
       "      <th>as_of_date</th>\n",
       "    </tr>\n",
       "  </thead>\n",
       "  <tbody>\n",
       "    <tr>\n",
       "      <th>0</th>\n",
       "      <td>PGNY</td>\n",
       "      <td>2021-08-20</td>\n",
       "      <td>30.0</td>\n",
       "      <td>C</td>\n",
       "      <td>None</td>\n",
       "      <td>16.6</td>\n",
       "      <td>16.3</td>\n",
       "      <td>16.9</td>\n",
       "      <td>0.8216</td>\n",
       "      <td>0.0784</td>\n",
       "      <td>-0.0187</td>\n",
       "      <td>0.0</td>\n",
       "      <td>2021-02-25</td>\n",
       "    </tr>\n",
       "  </tbody>\n",
       "</table>\n",
       "</div>"
      ],
      "text/plain": [
       "   root      expiry  strike option_type timestamp  option_mid  option_bid  \\\n",
       "0  PGNY  2021-08-20    30.0           C      None        16.6        16.3   \n",
       "\n",
       "   option_ask   delta    vega   theta  rho  as_of_date  \n",
       "0        16.9  0.8216  0.0784 -0.0187  0.0  2021-02-25  "
      ]
     },
     "execution_count": 23,
     "metadata": {},
     "output_type": "execute_result"
    }
   ],
   "source": [
    "pgny_end_df"
   ]
  },
  {
   "cell_type": "code",
   "execution_count": 26,
   "metadata": {},
   "outputs": [
    {
     "data": {
      "text/html": [
       "<div>\n",
       "<style scoped>\n",
       "    .dataframe tbody tr th:only-of-type {\n",
       "        vertical-align: middle;\n",
       "    }\n",
       "\n",
       "    .dataframe tbody tr th {\n",
       "        vertical-align: top;\n",
       "    }\n",
       "\n",
       "    .dataframe thead th {\n",
       "        text-align: right;\n",
       "    }\n",
       "</style>\n",
       "<table border=\"1\" class=\"dataframe\">\n",
       "  <thead>\n",
       "    <tr style=\"text-align: right;\">\n",
       "      <th></th>\n",
       "      <th>root</th>\n",
       "      <th>expiry</th>\n",
       "      <th>strike</th>\n",
       "      <th>option_type</th>\n",
       "      <th>timestamp</th>\n",
       "      <th>option_mid</th>\n",
       "      <th>option_bid</th>\n",
       "      <th>option_ask</th>\n",
       "      <th>delta</th>\n",
       "      <th>vega</th>\n",
       "      <th>theta</th>\n",
       "      <th>rho</th>\n",
       "      <th>as_of_date</th>\n",
       "    </tr>\n",
       "  </thead>\n",
       "  <tbody>\n",
       "    <tr>\n",
       "      <th>0</th>\n",
       "      <td>PGNY</td>\n",
       "      <td>2021-08-20</td>\n",
       "      <td>30.0</td>\n",
       "      <td>C</td>\n",
       "      <td>None</td>\n",
       "      <td>15.35</td>\n",
       "      <td>15.0</td>\n",
       "      <td>15.7</td>\n",
       "      <td>0.8359</td>\n",
       "      <td>0.084</td>\n",
       "      <td>-0.0115</td>\n",
       "      <td>0.0</td>\n",
       "      <td>2021-01-04</td>\n",
       "    </tr>\n",
       "  </tbody>\n",
       "</table>\n",
       "</div>"
      ],
      "text/plain": [
       "   root      expiry  strike option_type timestamp  option_mid  option_bid  \\\n",
       "0  PGNY  2021-08-20    30.0           C      None       15.35        15.0   \n",
       "\n",
       "   option_ask   delta   vega   theta  rho  as_of_date  \n",
       "0        15.7  0.8359  0.084 -0.0115  0.0  2021-01-04  "
      ]
     },
     "execution_count": 26,
     "metadata": {},
     "output_type": "execute_result"
    }
   ],
   "source": [
    "pd.merge(pgny_start_df, pgny_end_df, how = 'left')"
   ]
  },
  {
   "cell_type": "code",
   "execution_count": 27,
   "metadata": {},
   "outputs": [
    {
     "data": {
      "text/html": [
       "<div>\n",
       "<style scoped>\n",
       "    .dataframe tbody tr th:only-of-type {\n",
       "        vertical-align: middle;\n",
       "    }\n",
       "\n",
       "    .dataframe tbody tr th {\n",
       "        vertical-align: top;\n",
       "    }\n",
       "\n",
       "    .dataframe thead th {\n",
       "        text-align: right;\n",
       "    }\n",
       "</style>\n",
       "<table border=\"1\" class=\"dataframe\">\n",
       "  <thead>\n",
       "    <tr style=\"text-align: right;\">\n",
       "      <th></th>\n",
       "      <th>root</th>\n",
       "      <th>expiry</th>\n",
       "      <th>strike</th>\n",
       "      <th>option_type</th>\n",
       "      <th>timestamp</th>\n",
       "      <th>option_mid</th>\n",
       "      <th>option_bid</th>\n",
       "      <th>option_ask</th>\n",
       "      <th>delta</th>\n",
       "      <th>vega</th>\n",
       "      <th>theta</th>\n",
       "      <th>rho</th>\n",
       "      <th>as_of_date</th>\n",
       "    </tr>\n",
       "  </thead>\n",
       "  <tbody>\n",
       "    <tr>\n",
       "      <th>0</th>\n",
       "      <td>PGNY</td>\n",
       "      <td>2021-08-20</td>\n",
       "      <td>30.0</td>\n",
       "      <td>C</td>\n",
       "      <td>None</td>\n",
       "      <td>15.35</td>\n",
       "      <td>15.0</td>\n",
       "      <td>15.7</td>\n",
       "      <td>0.8359</td>\n",
       "      <td>0.0840</td>\n",
       "      <td>-0.0115</td>\n",
       "      <td>0.0</td>\n",
       "      <td>2021-01-04</td>\n",
       "    </tr>\n",
       "    <tr>\n",
       "      <th>0</th>\n",
       "      <td>PGNY</td>\n",
       "      <td>2021-08-20</td>\n",
       "      <td>30.0</td>\n",
       "      <td>C</td>\n",
       "      <td>None</td>\n",
       "      <td>16.60</td>\n",
       "      <td>16.3</td>\n",
       "      <td>16.9</td>\n",
       "      <td>0.8216</td>\n",
       "      <td>0.0784</td>\n",
       "      <td>-0.0187</td>\n",
       "      <td>0.0</td>\n",
       "      <td>2021-02-25</td>\n",
       "    </tr>\n",
       "  </tbody>\n",
       "</table>\n",
       "</div>"
      ],
      "text/plain": [
       "   root      expiry  strike option_type timestamp  option_mid  option_bid  \\\n",
       "0  PGNY  2021-08-20    30.0           C      None       15.35        15.0   \n",
       "0  PGNY  2021-08-20    30.0           C      None       16.60        16.3   \n",
       "\n",
       "   option_ask   delta    vega   theta  rho  as_of_date  \n",
       "0        15.7  0.8359  0.0840 -0.0115  0.0  2021-01-04  \n",
       "0        16.9  0.8216  0.0784 -0.0187  0.0  2021-02-25  "
      ]
     },
     "execution_count": 27,
     "metadata": {},
     "output_type": "execute_result"
    }
   ],
   "source": [
    "pd.concat([pgny_start_df, pgny_end_df])"
   ]
  },
  {
   "cell_type": "code",
   "execution_count": null,
   "metadata": {},
   "outputs": [],
   "source": []
  },
  {
   "cell_type": "code",
   "execution_count": null,
   "metadata": {},
   "outputs": [],
   "source": []
  },
  {
   "cell_type": "code",
   "execution_count": null,
   "metadata": {},
   "outputs": [],
   "source": []
  },
  {
   "cell_type": "code",
   "execution_count": null,
   "metadata": {},
   "outputs": [],
   "source": []
  },
  {
   "cell_type": "code",
   "execution_count": null,
   "metadata": {},
   "outputs": [],
   "source": []
  },
  {
   "cell_type": "code",
   "execution_count": null,
   "metadata": {},
   "outputs": [],
   "source": []
  },
  {
   "cell_type": "code",
   "execution_count": null,
   "metadata": {},
   "outputs": [],
   "source": []
  },
  {
   "cell_type": "code",
   "execution_count": null,
   "metadata": {},
   "outputs": [],
   "source": []
  },
  {
   "cell_type": "markdown",
   "metadata": {},
   "source": [
    "#### Appending DataFrames\n",
    "\n",
    "- I'll be adding each of the stocks in the list, and their option prices."
   ]
  },
  {
   "cell_type": "code",
   "execution_count": null,
   "metadata": {},
   "outputs": [],
   "source": [
    "df_list = [tdoc_start_df, tdoc_end_df, pins_start_df, pins_end_df, crwd_start_df, ]\n",
    "\n",
    "\n",
    "all_options = "
   ]
  },
  {
   "cell_type": "code",
   "execution_count": null,
   "metadata": {},
   "outputs": [],
   "source": []
  }
 ],
 "metadata": {
  "kernelspec": {
   "display_name": "Python 3",
   "language": "python",
   "name": "python3"
  },
  "language_info": {
   "codemirror_mode": {
    "name": "ipython",
    "version": 3
   },
   "file_extension": ".py",
   "mimetype": "text/x-python",
   "name": "python",
   "nbconvert_exporter": "python",
   "pygments_lexer": "ipython3",
   "version": "3.8.5"
  }
 },
 "nbformat": 4,
 "nbformat_minor": 4
}
