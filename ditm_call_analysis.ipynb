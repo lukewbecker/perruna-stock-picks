{
 "cells": [
  {
   "cell_type": "code",
   "execution_count": 1,
   "metadata": {},
   "outputs": [],
   "source": [
    "# Getting turn of year deep in the money call greeks and prices.\n",
    "# Goal is simple: get data for selected options on 12/31/2020 and then on current date.\n",
    "# If easy, get daily prices for selected options."
   ]
  },
  {
   "cell_type": "code",
   "execution_count": 3,
   "metadata": {},
   "outputs": [],
   "source": [
    "import numpy as np\n",
    "import pandas as pd\n",
    "from scipy import stats\n",
    "import matplotlib.pyplot as plt\n",
    "import seaborn"
   ]
  },
  {
   "cell_type": "code",
   "execution_count": 15,
   "metadata": {},
   "outputs": [],
   "source": [
    "# Alt libraries:\n",
    "\n",
    "import yfinance\n",
    "import requests\n",
    "import json"
   ]
  },
  {
   "cell_type": "code",
   "execution_count": 9,
   "metadata": {},
   "outputs": [
    {
     "name": "stdout",
     "output_type": "stream",
     "text": [
      "Polygon.io API key loaded up.\n",
      "Cboe API key loaded up.\n",
      "TD Ameritrade API key loaded up.\n",
      "Coinbase API key loaded up.\n",
      "All credentials loaded successfully\n"
     ]
    }
   ],
   "source": [
    "import env"
   ]
  },
  {
   "cell_type": "code",
   "execution_count": 42,
   "metadata": {},
   "outputs": [],
   "source": [
    "cboe_headers = {'Authorization': 'Bearer ############'} #This token expires after 30 minutes."
   ]
  },
  {
   "cell_type": "markdown",
   "metadata": {},
   "source": [
    "#### TDOC"
   ]
  },
  {
   "cell_type": "code",
   "execution_count": null,
   "metadata": {},
   "outputs": [],
   "source": [
    "# Start date: 2021-01-04\n",
    "# End date: 2021-02-25\n",
    "\n",
    "start_url = 'https://api.livevol.com/v1/delayed/allaccess/market/option-and-underlying-quotes?root=AAPL&option_type=C&date=2021-02-01&min_expiry=2021-03-19&max_expiry=2021-03-19&min_strike=130&max_strike=130&symbol=AAPL'\n",
    "\n",
    "end_url = 'https://api.livevol.com/v1/delayed/allaccess/market/option-and-underlying-quotes?root=AAPL&option_type=C&date=2021-02-24&min_expiry=2021-03-19&max_expiry=2021-03-19&min_strike=130&max_strike=130&symbol=AAPL'\n",
    "\n",
    "cboe_headers = {'Authorization': 'Bearer #####'}"
   ]
  },
  {
   "cell_type": "code",
   "execution_count": 11,
   "metadata": {},
   "outputs": [],
   "source": [
    "base_url = 'https://api.livevol.com/v1/delayed/allaccess/market/option-and-underlying-quotes?root={root}&option_type={option_type}&date={date}&min_expiry={min_expiry}&max_expiry={max_expiry}&min_strike={min_strike}&max_strike={max_strike}&symbol={symbol}'"
   ]
  },
  {
   "cell_type": "code",
   "execution_count": 12,
   "metadata": {},
   "outputs": [],
   "source": [
    "tdoc_url = 'https://api.livevol.com/v1/delayed/allaccess/market/option-and-underlying-quotes?root=TDOC&option_type=C&date=2021-01-04&min_expiry=2022-01-21&max_expiry=2022-01-21&min_strike=130&max_strike=150&symbol=TDOC'"
   ]
  },
  {
   "cell_type": "code",
   "execution_count": 55,
   "metadata": {},
   "outputs": [],
   "source": [
    "# TDOC start data:\n",
    "\n",
    "root = 'TDOC'\n",
    "option_type = 'C'\n",
    "date = '2021-01-04'\n",
    "min_expiry = '2022-01-21'\n",
    "max_expiry = '2022-01-21'\n",
    "min_strike = '145'\n",
    "max_strike = '145'\n",
    "symbol = root\n",
    "\n",
    "tdoc_start_url = f'https://api.livevol.com/v1/live/allaccess/market/option-and-underlying-quotes?root={root}&option_type={option_type}&date={date}&min_expiry={min_expiry}&max_expiry={max_expiry}&min_strike={min_strike}&max_strike={max_strike}&symbol={symbol}'\n",
    "\n",
    "# tdoc_start_url = 'https://api.livevol.com/v1/delayed/allaccess/market/option-and-underlying-quotes?root=TDOC&option_type=C&date=2021-01-04&min_expiry=2022-01-21&max_expiry=2022-01-21&min_strike=130&max_strike=150&symbol=TDOC'"
   ]
  },
  {
   "cell_type": "code",
   "execution_count": null,
   "metadata": {},
   "outputs": [],
   "source": []
  },
  {
   "cell_type": "code",
   "execution_count": 56,
   "metadata": {},
   "outputs": [],
   "source": [
    "tdoc_sdata = requests.get(url = tdoc_start_url, headers = cboe_headers)\n",
    "tdoc_start_data = json.loads(tdoc_sdata.text)"
   ]
  },
  {
   "cell_type": "code",
   "execution_count": 57,
   "metadata": {},
   "outputs": [
    {
     "data": {
      "text/plain": [
       "{'options': [{'root': 'TDOC',\n",
       "   'expiry': '2022-01-21',\n",
       "   'strike': 145.0,\n",
       "   'option_type': 'C',\n",
       "   'timestamp': None,\n",
       "   'option': 'TDOC220121C00145000',\n",
       "   'option_mid': 71.45,\n",
       "   'option_trade_count': None,\n",
       "   'option_bid': 70.85,\n",
       "   'option_bid_size': 30,\n",
       "   'option_ask': 72.05,\n",
       "   'option_ask_size': 30,\n",
       "   'option_open': 0.0,\n",
       "   'option_high': 0.0,\n",
       "   'option_low': 0.0,\n",
       "   'option_close': 69.13,\n",
       "   'option_prev_day_close': 69.13,\n",
       "   'option_last_trade_price': 69.13,\n",
       "   'iv': 0.5375,\n",
       "   'open_interest': 23,\n",
       "   'option_volume': 0,\n",
       "   'delta': 0.8071,\n",
       "   'gamma': 0.0025,\n",
       "   'vega': 0.5621,\n",
       "   'theta': -0.0398,\n",
       "   'rho': 0.0}],\n",
       " 'timestamp': None,\n",
       " 'symbol': 'TDOC',\n",
       " 'implied_underlying_bid': None,\n",
       " 'implied_underlying_ask': None,\n",
       " 'implied_underlying_bid_size': None,\n",
       " 'implied_underlying_ask_size': None,\n",
       " 'implied_underlying_mid': None,\n",
       " 'underlying_mid': None,\n",
       " 'underlying_last_trade_price': None,\n",
       " 'underlying_last_trade_size': None,\n",
       " 'underlying_bid': None,\n",
       " 'underlying_ask': None,\n",
       " 'underlying_bid_size': None,\n",
       " 'underlying_ask_size': None,\n",
       " 'underlying_open': 200.09,\n",
       " 'underlying_high': 200.63,\n",
       " 'underlying_low': 192.0,\n",
       " 'underlying_close': 200.63,\n",
       " 'underlying_prev_day_close': 199.96,\n",
       " 'underlying_volume': 2552805,\n",
       " 'iv30': 57.0739,\n",
       " 'iv30_change': 6.335,\n",
       " 'iv30_change_percent': 12.4855,\n",
       " 'seq_no': None}"
      ]
     },
     "execution_count": 57,
     "metadata": {},
     "output_type": "execute_result"
    }
   ],
   "source": [
    "tdoc_start_data"
   ]
  },
  {
   "cell_type": "code",
   "execution_count": 54,
   "metadata": {},
   "outputs": [
    {
     "data": {
      "text/plain": [
       "{'options': [{'root': 'TDOC',\n",
       "   'expiry': '2022-01-21',\n",
       "   'strike': 145.0,\n",
       "   'option_type': 'C',\n",
       "   'timestamp': None,\n",
       "   'option': 'TDOC220121C00145000',\n",
       "   'option_mid': 88.8,\n",
       "   'option_trade_count': None,\n",
       "   'option_bid': 87.3,\n",
       "   'option_bid_size': 148,\n",
       "   'option_ask': 90.3,\n",
       "   'option_ask_size': 161,\n",
       "   'option_open': 0.0,\n",
       "   'option_high': 0.0,\n",
       "   'option_low': 0.0,\n",
       "   'option_close': 133.03,\n",
       "   'option_prev_day_close': 133.03,\n",
       "   'option_last_trade_price': 133.03,\n",
       "   'iv': 0.6158,\n",
       "   'open_interest': 40,\n",
       "   'option_volume': 0,\n",
       "   'delta': 0.8415,\n",
       "   'gamma': 0.0019,\n",
       "   'vega': 0.5043,\n",
       "   'theta': -0.0473,\n",
       "   'rho': 0.0}],\n",
       " 'timestamp': None,\n",
       " 'symbol': 'TDOC',\n",
       " 'implied_underlying_bid': None,\n",
       " 'implied_underlying_ask': None,\n",
       " 'implied_underlying_bid_size': None,\n",
       " 'implied_underlying_ask_size': None,\n",
       " 'implied_underlying_mid': None,\n",
       " 'underlying_mid': None,\n",
       " 'underlying_last_trade_price': None,\n",
       " 'underlying_last_trade_size': None,\n",
       " 'underlying_bid': None,\n",
       " 'underlying_ask': None,\n",
       " 'underlying_bid_size': None,\n",
       " 'underlying_ask_size': None,\n",
       " 'underlying_open': 239.75,\n",
       " 'underlying_high': 246.66,\n",
       " 'underlying_low': 216.81,\n",
       " 'underlying_close': 219.55,\n",
       " 'underlying_prev_day_close': 254.53,\n",
       " 'underlying_volume': 9082296,\n",
       " 'iv30': 69.9669,\n",
       " 'iv30_change': 2.0445,\n",
       " 'iv30_change_percent': 3.0101,\n",
       " 'seq_no': None}"
      ]
     },
     "execution_count": 54,
     "metadata": {},
     "output_type": "execute_result"
    }
   ],
   "source": [
    "# TDOC end data:\n",
    "\n",
    "root = 'TDOC'\n",
    "option_type = 'C'\n",
    "date = '2021-02-25'\n",
    "min_expiry = '2022-01-21'\n",
    "max_expiry = '2022-01-21'\n",
    "min_strike = '145'\n",
    "max_strike = '145'\n",
    "symbol = root\n",
    "\n",
    "tdoc_end_url = f'https://api.livevol.com/v1/live/allaccess/market/option-and-underlying-quotes?root={root}&option_type={option_type}&date={date}&min_expiry={min_expiry}&max_expiry={max_expiry}&min_strike={min_strike}&max_strike={max_strike}&symbol={symbol}'\n",
    "\n",
    "tdoc_edata = requests.get(url = tdoc_end_url, headers = cboe_headers)\n",
    "tdoc_end_data = json.loads(tdoc_edata.text)\n",
    "tdoc_end_data"
   ]
  },
  {
   "cell_type": "code",
   "execution_count": 53,
   "metadata": {},
   "outputs": [
    {
     "data": {
      "text/html": [
       "<div>\n",
       "<style scoped>\n",
       "    .dataframe tbody tr th:only-of-type {\n",
       "        vertical-align: middle;\n",
       "    }\n",
       "\n",
       "    .dataframe tbody tr th {\n",
       "        vertical-align: top;\n",
       "    }\n",
       "\n",
       "    .dataframe thead th {\n",
       "        text-align: right;\n",
       "    }\n",
       "</style>\n",
       "<table border=\"1\" class=\"dataframe\">\n",
       "  <thead>\n",
       "    <tr style=\"text-align: right;\">\n",
       "      <th></th>\n",
       "      <th>root</th>\n",
       "      <th>expiry</th>\n",
       "      <th>strike</th>\n",
       "      <th>option_type</th>\n",
       "      <th>timestamp</th>\n",
       "      <th>option_mid</th>\n",
       "      <th>delta</th>\n",
       "    </tr>\n",
       "  </thead>\n",
       "  <tbody>\n",
       "    <tr>\n",
       "      <th>0</th>\n",
       "      <td>TDOC</td>\n",
       "      <td>2022-01-21</td>\n",
       "      <td>145.0</td>\n",
       "      <td>C</td>\n",
       "      <td>None</td>\n",
       "      <td>88.8</td>\n",
       "      <td>0.8415</td>\n",
       "    </tr>\n",
       "  </tbody>\n",
       "</table>\n",
       "</div>"
      ],
      "text/plain": [
       "   root      expiry  strike option_type timestamp  option_mid   delta\n",
       "0  TDOC  2022-01-21   145.0           C      None        88.8  0.8415"
      ]
     },
     "execution_count": 53,
     "metadata": {},
     "output_type": "execute_result"
    }
   ],
   "source": [
    "# The Dateframe:\n",
    "\n",
    "tdoc_df_test = pd.DataFrame(tdoc_end_data['options'][0], index = [0])\n",
    "columns_to_keep = ['root', 'expiry', 'strike', 'option_type', 'timestamp', 'option_mid', 'delta']\n",
    "\n",
    "tdoc_df_test = tdoc_df_test[[c for c in tdoc_df_test.columns if c in columns_to_keep]]\n",
    "tdoc_df_test"
   ]
  },
  {
   "cell_type": "code",
   "execution_count": 52,
   "metadata": {},
   "outputs": [
    {
     "data": {
      "text/html": [
       "<div>\n",
       "<style scoped>\n",
       "    .dataframe tbody tr th:only-of-type {\n",
       "        vertical-align: middle;\n",
       "    }\n",
       "\n",
       "    .dataframe tbody tr th {\n",
       "        vertical-align: top;\n",
       "    }\n",
       "\n",
       "    .dataframe thead th {\n",
       "        text-align: right;\n",
       "    }\n",
       "</style>\n",
       "<table border=\"1\" class=\"dataframe\">\n",
       "  <thead>\n",
       "    <tr style=\"text-align: right;\">\n",
       "      <th></th>\n",
       "      <th>0</th>\n",
       "    </tr>\n",
       "  </thead>\n",
       "  <tbody>\n",
       "    <tr>\n",
       "      <th>root</th>\n",
       "      <td>TDOC</td>\n",
       "    </tr>\n",
       "    <tr>\n",
       "      <th>expiry</th>\n",
       "      <td>2022-01-21</td>\n",
       "    </tr>\n",
       "    <tr>\n",
       "      <th>strike</th>\n",
       "      <td>145</td>\n",
       "    </tr>\n",
       "    <tr>\n",
       "      <th>option_type</th>\n",
       "      <td>C</td>\n",
       "    </tr>\n",
       "    <tr>\n",
       "      <th>timestamp</th>\n",
       "      <td>None</td>\n",
       "    </tr>\n",
       "    <tr>\n",
       "      <th>option</th>\n",
       "      <td>TDOC220121C00145000</td>\n",
       "    </tr>\n",
       "    <tr>\n",
       "      <th>option_mid</th>\n",
       "      <td>88.8</td>\n",
       "    </tr>\n",
       "    <tr>\n",
       "      <th>option_bid</th>\n",
       "      <td>87.3</td>\n",
       "    </tr>\n",
       "    <tr>\n",
       "      <th>option_ask</th>\n",
       "      <td>90.3</td>\n",
       "    </tr>\n",
       "    <tr>\n",
       "      <th>delta</th>\n",
       "      <td>0.8415</td>\n",
       "    </tr>\n",
       "    <tr>\n",
       "      <th>gamma</th>\n",
       "      <td>0.0019</td>\n",
       "    </tr>\n",
       "    <tr>\n",
       "      <th>vega</th>\n",
       "      <td>0.5043</td>\n",
       "    </tr>\n",
       "    <tr>\n",
       "      <th>theta</th>\n",
       "      <td>-0.0473</td>\n",
       "    </tr>\n",
       "    <tr>\n",
       "      <th>rho</th>\n",
       "      <td>0</td>\n",
       "    </tr>\n",
       "  </tbody>\n",
       "</table>\n",
       "</div>"
      ],
      "text/plain": [
       "                               0\n",
       "root                        TDOC\n",
       "expiry                2022-01-21\n",
       "strike                       145\n",
       "option_type                    C\n",
       "timestamp                   None\n",
       "option       TDOC220121C00145000\n",
       "option_mid                  88.8\n",
       "option_bid                  87.3\n",
       "option_ask                  90.3\n",
       "delta                     0.8415\n",
       "gamma                     0.0019\n",
       "vega                      0.5043\n",
       "theta                    -0.0473\n",
       "rho                            0"
      ]
     },
     "execution_count": 52,
     "metadata": {},
     "output_type": "execute_result"
    }
   ],
   "source": [
    "tdoc_df_test.T"
   ]
  },
  {
   "cell_type": "code",
   "execution_count": null,
   "metadata": {},
   "outputs": [],
   "source": []
  },
  {
   "cell_type": "code",
   "execution_count": null,
   "metadata": {},
   "outputs": [],
   "source": []
  },
  {
   "cell_type": "code",
   "execution_count": null,
   "metadata": {},
   "outputs": [],
   "source": []
  },
  {
   "cell_type": "code",
   "execution_count": 59,
   "metadata": {},
   "outputs": [],
   "source": [
    "# Creating a function for the start date call:\n",
    "\n",
    "# root = 'TDOC'\n",
    "# option_type = 'C'\n",
    "# date = '2021-01-04'\n",
    "# min_expiry = '2022-01-21'\n",
    "# max_expiry = '2022-01-21'\n",
    "# min_strike = '145'\n",
    "# max_strike = '145'\n",
    "# symbol = root\n",
    "\n",
    "\n",
    "def start_data(root, option_type, date, min_expiry, max_expiry, min_strike, max_strike, symbol, header_code):\n",
    "    \n",
    "    url = f'https://api.livevol.com/v1/live/allaccess/market/option-and-underlying-quotes?root={root}&option_type={option_type}&date={date}&min_expiry={min_expiry}&max_expiry={max_expiry}&min_strike={min_strike}&max_strike={max_strike}&symbol={symbol}'\n",
    "    \n",
    "    cboe_headers = {'Authorization': f'Bearer {header_code}'}\n",
    "    \n",
    "    \n",
    "    # Getting the data from the API:\n",
    "    stock_get = requests.get(url = url, headers = cboe_headers)\n",
    "    \n",
    "    stock_data = json.loads(stock_get.text)\n",
    "    \n",
    "    # Creating the Dataframe and cleaning up columns:\n",
    "    stock_df = pd.DataFrame(stock_data['options'][0], index = [0])\n",
    "    columns_to_keep = ['root', 'expiry', 'strike', 'option_type', 'timestamp', 'option_mid', 'option_bid', 'option_ask', 'delta', 'gamme', 'vega', 'theta', 'rho']\n",
    "    \n",
    "    #Using list comprehension to filter for the columns I want to keep\n",
    "    stock_df = stock_df[[c for c in stock_df.columns if c in columns_to_keep]]\n",
    "    \n",
    "    # Adding the as of date:\n",
    "    stock_df['date'] = \n",
    "    \n",
    "    # Returning the df:\n",
    "    \n",
    "    return stock_df\n",
    "    "
   ]
  },
  {
   "cell_type": "code",
   "execution_count": 62,
   "metadata": {},
   "outputs": [],
   "source": [
    "testing_df = start_data('TDOC', \"C\", '2021-01-04', '2022-01-21', '2022-01-21', '130', '145', 'TDOC', '89c716765c54c540afd19ce46eec6dfa')"
   ]
  },
  {
   "cell_type": "code",
   "execution_count": 64,
   "metadata": {},
   "outputs": [
    {
     "data": {
      "text/html": [
       "<div>\n",
       "<style scoped>\n",
       "    .dataframe tbody tr th:only-of-type {\n",
       "        vertical-align: middle;\n",
       "    }\n",
       "\n",
       "    .dataframe tbody tr th {\n",
       "        vertical-align: top;\n",
       "    }\n",
       "\n",
       "    .dataframe thead th {\n",
       "        text-align: right;\n",
       "    }\n",
       "</style>\n",
       "<table border=\"1\" class=\"dataframe\">\n",
       "  <thead>\n",
       "    <tr style=\"text-align: right;\">\n",
       "      <th></th>\n",
       "      <th>root</th>\n",
       "      <th>expiry</th>\n",
       "      <th>strike</th>\n",
       "      <th>option_type</th>\n",
       "      <th>timestamp</th>\n",
       "      <th>option_mid</th>\n",
       "      <th>option_bid</th>\n",
       "      <th>option_ask</th>\n",
       "      <th>delta</th>\n",
       "      <th>vega</th>\n",
       "      <th>theta</th>\n",
       "      <th>rho</th>\n",
       "    </tr>\n",
       "  </thead>\n",
       "  <tbody>\n",
       "    <tr>\n",
       "      <th>0</th>\n",
       "      <td>TDOC</td>\n",
       "      <td>2022-01-21</td>\n",
       "      <td>130.0</td>\n",
       "      <td>C</td>\n",
       "      <td>None</td>\n",
       "      <td>81.55</td>\n",
       "      <td>80.55</td>\n",
       "      <td>82.55</td>\n",
       "      <td>0.8557</td>\n",
       "      <td>0.4661</td>\n",
       "      <td>-0.0333</td>\n",
       "      <td>0.0</td>\n",
       "    </tr>\n",
       "  </tbody>\n",
       "</table>\n",
       "</div>"
      ],
      "text/plain": [
       "   root      expiry  strike option_type timestamp  option_mid  option_bid  \\\n",
       "0  TDOC  2022-01-21   130.0           C      None       81.55       80.55   \n",
       "\n",
       "   option_ask   delta    vega   theta  rho  \n",
       "0       82.55  0.8557  0.4661 -0.0333  0.0  "
      ]
     },
     "execution_count": 64,
     "metadata": {},
     "output_type": "execute_result"
    }
   ],
   "source": [
    "testing_df"
   ]
  },
  {
   "cell_type": "code",
   "execution_count": 65,
   "metadata": {},
   "outputs": [],
   "source": [
    "date_test = '2021-01-04'"
   ]
  },
  {
   "cell_type": "code",
   "execution_count": 66,
   "metadata": {},
   "outputs": [],
   "source": [
    "testing_df['date_as_of'] = date_test"
   ]
  },
  {
   "cell_type": "code",
   "execution_count": 67,
   "metadata": {},
   "outputs": [
    {
     "data": {
      "text/html": [
       "<div>\n",
       "<style scoped>\n",
       "    .dataframe tbody tr th:only-of-type {\n",
       "        vertical-align: middle;\n",
       "    }\n",
       "\n",
       "    .dataframe tbody tr th {\n",
       "        vertical-align: top;\n",
       "    }\n",
       "\n",
       "    .dataframe thead th {\n",
       "        text-align: right;\n",
       "    }\n",
       "</style>\n",
       "<table border=\"1\" class=\"dataframe\">\n",
       "  <thead>\n",
       "    <tr style=\"text-align: right;\">\n",
       "      <th></th>\n",
       "      <th>root</th>\n",
       "      <th>expiry</th>\n",
       "      <th>strike</th>\n",
       "      <th>option_type</th>\n",
       "      <th>timestamp</th>\n",
       "      <th>option_mid</th>\n",
       "      <th>option_bid</th>\n",
       "      <th>option_ask</th>\n",
       "      <th>delta</th>\n",
       "      <th>vega</th>\n",
       "      <th>theta</th>\n",
       "      <th>rho</th>\n",
       "      <th>date_as_of</th>\n",
       "    </tr>\n",
       "  </thead>\n",
       "  <tbody>\n",
       "    <tr>\n",
       "      <th>0</th>\n",
       "      <td>TDOC</td>\n",
       "      <td>2022-01-21</td>\n",
       "      <td>130.0</td>\n",
       "      <td>C</td>\n",
       "      <td>None</td>\n",
       "      <td>81.55</td>\n",
       "      <td>80.55</td>\n",
       "      <td>82.55</td>\n",
       "      <td>0.8557</td>\n",
       "      <td>0.4661</td>\n",
       "      <td>-0.0333</td>\n",
       "      <td>0.0</td>\n",
       "      <td>2021-01-04</td>\n",
       "    </tr>\n",
       "  </tbody>\n",
       "</table>\n",
       "</div>"
      ],
      "text/plain": [
       "   root      expiry  strike option_type timestamp  option_mid  option_bid  \\\n",
       "0  TDOC  2022-01-21   130.0           C      None       81.55       80.55   \n",
       "\n",
       "   option_ask   delta    vega   theta  rho  date_as_of  \n",
       "0       82.55  0.8557  0.4661 -0.0333  0.0  2021-01-04  "
      ]
     },
     "execution_count": 67,
     "metadata": {},
     "output_type": "execute_result"
    }
   ],
   "source": [
    "testing_df"
   ]
  },
  {
   "cell_type": "code",
   "execution_count": 68,
   "metadata": {},
   "outputs": [
    {
     "name": "stdout",
     "output_type": "stream",
     "text": [
      "<class 'pandas.core.frame.DataFrame'>\n",
      "Int64Index: 1 entries, 0 to 0\n",
      "Data columns (total 13 columns):\n",
      " #   Column       Non-Null Count  Dtype  \n",
      "---  ------       --------------  -----  \n",
      " 0   root         1 non-null      object \n",
      " 1   expiry       1 non-null      object \n",
      " 2   strike       1 non-null      float64\n",
      " 3   option_type  1 non-null      object \n",
      " 4   timestamp    0 non-null      object \n",
      " 5   option_mid   1 non-null      float64\n",
      " 6   option_bid   1 non-null      float64\n",
      " 7   option_ask   1 non-null      float64\n",
      " 8   delta        1 non-null      float64\n",
      " 9   vega         1 non-null      float64\n",
      " 10  theta        1 non-null      float64\n",
      " 11  rho          1 non-null      float64\n",
      " 12  date_as_of   1 non-null      object \n",
      "dtypes: float64(8), object(5)\n",
      "memory usage: 112.0+ bytes\n"
     ]
    }
   ],
   "source": [
    "testing_df.info()"
   ]
  },
  {
   "cell_type": "code",
   "execution_count": null,
   "metadata": {},
   "outputs": [],
   "source": []
  },
  {
   "cell_type": "code",
   "execution_count": null,
   "metadata": {},
   "outputs": [],
   "source": []
  },
  {
   "cell_type": "code",
   "execution_count": null,
   "metadata": {},
   "outputs": [],
   "source": []
  },
  {
   "cell_type": "code",
   "execution_count": null,
   "metadata": {},
   "outputs": [],
   "source": []
  }
 ],
 "metadata": {
  "kernelspec": {
   "display_name": "Python 3",
   "language": "python",
   "name": "python3"
  },
  "language_info": {
   "codemirror_mode": {
    "name": "ipython",
    "version": 3
   },
   "file_extension": ".py",
   "mimetype": "text/x-python",
   "name": "python",
   "nbconvert_exporter": "python",
   "pygments_lexer": "ipython3",
   "version": "3.8.5"
  }
 },
 "nbformat": 4,
 "nbformat_minor": 4
}
