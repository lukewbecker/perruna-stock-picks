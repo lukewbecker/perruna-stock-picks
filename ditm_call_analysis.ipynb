{
 "cells": [
  {
   "cell_type": "code",
   "execution_count": null,
   "metadata": {},
   "outputs": [],
   "source": [
    "# Getting turn of year deep in the money call greeks and prices.\n",
    "# Goal is simple: get data for selected options on 12/31/2020 and then on current date.\n",
    "# If easy, get daily prices for selected options."
   ]
  },
  {
   "cell_type": "code",
   "execution_count": null,
   "metadata": {},
   "outputs": [],
   "source": [
    "import numpy as np\n",
    "import pandas as pd\n",
    "from scipy import stats\n",
    "import matplotlib.pyplot as plt\n",
    "import seaborn"
   ]
  },
  {
   "cell_type": "code",
   "execution_count": null,
   "metadata": {},
   "outputs": [],
   "source": [
    "# Alt libraries:\n",
    "\n",
    "import yfinance\n",
    "import requests\n",
    "import json"
   ]
  },
  {
   "cell_type": "code",
   "execution_count": null,
   "metadata": {},
   "outputs": [],
   "source": [
    "import env"
   ]
  },
  {
   "cell_type": "code",
   "execution_count": null,
   "metadata": {},
   "outputs": [],
   "source": [
    "import cboe_headers\n",
    "# cboe_headers = {'Authorization': 'Bearer ############'} #This token expires after 30 minutes.\n",
    "\n",
    "cboe_headers_code = cboe_headers.cboe_header_bearer"
   ]
  },
  {
   "cell_type": "code",
   "execution_count": null,
   "metadata": {},
   "outputs": [],
   "source": []
  },
  {
   "cell_type": "markdown",
   "metadata": {},
   "source": [
    "#### TDOC"
   ]
  },
  {
   "cell_type": "code",
   "execution_count": null,
   "metadata": {},
   "outputs": [],
   "source": [
    "# Start date: 2021-01-04\n",
    "# End date: 2021-02-25\n",
    "\n",
    "start_url = 'https://api.livevol.com/v1/delayed/allaccess/market/option-and-underlying-quotes?root=AAPL&option_type=C&date=2021-02-01&min_expiry=2021-03-19&max_expiry=2021-03-19&min_strike=130&max_strike=130&symbol=AAPL'\n",
    "\n",
    "end_url = 'https://api.livevol.com/v1/delayed/allaccess/market/option-and-underlying-quotes?root=AAPL&option_type=C&date=2021-02-24&min_expiry=2021-03-19&max_expiry=2021-03-19&min_strike=130&max_strike=130&symbol=AAPL'\n",
    "\n",
    "headers = cboe_headers_code"
   ]
  },
  {
   "cell_type": "code",
   "execution_count": null,
   "metadata": {},
   "outputs": [],
   "source": [
    "base_url = 'https://api.livevol.com/v1/delayed/allaccess/market/option-and-underlying-quotes?root={root}&option_type={option_type}&date={date}&min_expiry={min_expiry}&max_expiry={max_expiry}&min_strike={min_strike}&max_strike={max_strike}&symbol={symbol}'"
   ]
  },
  {
   "cell_type": "code",
   "execution_count": null,
   "metadata": {},
   "outputs": [],
   "source": [
    "tdoc_url = 'https://api.livevol.com/v1/delayed/allaccess/market/option-and-underlying-quotes?root=TDOC&option_type=C&date=2021-01-04&min_expiry=2022-01-21&max_expiry=2022-01-21&min_strike=130&max_strike=150&symbol=TDOC'"
   ]
  },
  {
   "cell_type": "code",
   "execution_count": null,
   "metadata": {},
   "outputs": [],
   "source": [
    "# TDOC start data:\n",
    "\n",
    "root = 'TDOC'\n",
    "option_type = 'C'\n",
    "date = '2021-01-04'\n",
    "min_expiry = '2022-01-21'\n",
    "max_expiry = '2022-01-21'\n",
    "min_strike = '145'\n",
    "max_strike = '145'\n",
    "symbol = root\n",
    "\n",
    "tdoc_start_url = f'https://api.livevol.com/v1/live/allaccess/market/option-and-underlying-quotes?root={root}&option_type={option_type}&date={date}&min_expiry={min_expiry}&max_expiry={max_expiry}&min_strike={min_strike}&max_strike={max_strike}&symbol={symbol}'\n",
    "\n",
    "# tdoc_start_url = 'https://api.livevol.com/v1/delayed/allaccess/market/option-and-underlying-quotes?root=TDOC&option_type=C&date=2021-01-04&min_expiry=2022-01-21&max_expiry=2022-01-21&min_strike=130&max_strike=150&symbol=TDOC'"
   ]
  },
  {
   "cell_type": "code",
   "execution_count": null,
   "metadata": {},
   "outputs": [],
   "source": []
  },
  {
   "cell_type": "code",
   "execution_count": null,
   "metadata": {},
   "outputs": [],
   "source": [
    "tdoc_sdata = requests.get(url = tdoc_start_url, headers = headers)\n",
    "tdoc_start_data = json.loads(tdoc_sdata.text)"
   ]
  },
  {
   "cell_type": "code",
   "execution_count": null,
   "metadata": {},
   "outputs": [],
   "source": [
    "tdoc_start_data"
   ]
  },
  {
   "cell_type": "code",
   "execution_count": null,
   "metadata": {},
   "outputs": [],
   "source": [
    "# TDOC end data:\n",
    "\n",
    "root = 'TDOC'\n",
    "option_type = 'C'\n",
    "date = '2021-02-25'\n",
    "min_expiry = '2022-01-21'\n",
    "max_expiry = '2022-01-21'\n",
    "min_strike = '145'\n",
    "max_strike = '145'\n",
    "symbol = root\n",
    "\n",
    "tdoc_end_url = f'https://api.livevol.com/v1/live/allaccess/market/option-and-underlying-quotes?root={root}&option_type={option_type}&date={date}&min_expiry={min_expiry}&max_expiry={max_expiry}&min_strike={min_strike}&max_strike={max_strike}&symbol={symbol}'\n",
    "\n",
    "tdoc_edata = requests.get(url = tdoc_end_url, headers = headers)\n",
    "tdoc_end_data = json.loads(tdoc_edata.text)\n",
    "tdoc_end_data"
   ]
  },
  {
   "cell_type": "code",
   "execution_count": null,
   "metadata": {},
   "outputs": [],
   "source": [
    "# The Dateframe:\n",
    "\n",
    "tdoc_df_test = pd.DataFrame(tdoc_end_data['options'][0], index = [0])\n",
    "columns_to_keep = ['root', 'expiry', 'strike', 'option_type', 'timestamp', 'option_mid', 'delta']\n",
    "\n",
    "tdoc_df_test = tdoc_df_test[[c for c in tdoc_df_test.columns if c in columns_to_keep]]\n",
    "tdoc_df_test"
   ]
  },
  {
   "cell_type": "code",
   "execution_count": null,
   "metadata": {},
   "outputs": [],
   "source": [
    "tdoc_df_test.T"
   ]
  },
  {
   "cell_type": "code",
   "execution_count": null,
   "metadata": {},
   "outputs": [],
   "source": []
  },
  {
   "cell_type": "code",
   "execution_count": null,
   "metadata": {},
   "outputs": [],
   "source": []
  },
  {
   "cell_type": "code",
   "execution_count": null,
   "metadata": {},
   "outputs": [],
   "source": []
  },
  {
   "cell_type": "code",
   "execution_count": null,
   "metadata": {},
   "outputs": [],
   "source": [
    "# Creating a function for the start date call:\n",
    "\n",
    "# root = 'TDOC'\n",
    "# option_type = 'C'\n",
    "# date = '2021-01-04'\n",
    "# min_expiry = '2022-01-21'\n",
    "# max_expiry = '2022-01-21'\n",
    "# min_strike = '145'\n",
    "# max_strike = '145'\n",
    "# symbol = root\n",
    "\n",
    "\n",
    "def start_data(root, option_type, date, min_expiry, max_expiry, min_strike, max_strike, symbol, header_code):\n",
    "    \n",
    "    url = f'https://api.livevol.com/v1/live/allaccess/market/option-and-underlying-quotes?root={root}&option_type={option_type}&date={date}&min_expiry={min_expiry}&max_expiry={max_expiry}&min_strike={min_strike}&max_strike={max_strike}&symbol={symbol}'\n",
    "    \n",
    "    cboe_headers = {'Authorization': f'Bearer {header_code}'}\n",
    "    \n",
    "    \n",
    "    # Getting the data from the API:\n",
    "    stock_get = requests.get(url = url, headers = headers)\n",
    "    \n",
    "    stock_data = json.loads(stock_get.text)\n",
    "    \n",
    "    # Creating the Dataframe and cleaning up columns:\n",
    "    stock_df = pd.DataFrame(stock_data['options'][0], index = [0])\n",
    "    columns_to_keep = ['root', 'expiry', 'strike', 'option_type', 'timestamp', 'option_mid', 'option_bid', 'option_ask', 'delta', 'gamme', 'vega', 'theta', 'rho']\n",
    "    \n",
    "    # Using list comprehension to filter for the columns I want to keep\n",
    "    stock_df = stock_df[[c for c in stock_df.columns if c in columns_to_keep]]\n",
    "    \n",
    "    # Adding the as of date:\n",
    "    stock_df['as_of_date'] = date\n",
    "    \n",
    "    # Returning the df:\n",
    "    \n",
    "    return stock_df\n",
    "    "
   ]
  },
  {
   "cell_type": "code",
   "execution_count": null,
   "metadata": {},
   "outputs": [],
   "source": [
    "testing_df = start_data('TDOC', \"C\", '2021-01-04', '2022-01-21', '2022-01-21', '130', '145', 'TDOC', '89c716765c54c540afd19ce46eec6dfa')"
   ]
  },
  {
   "cell_type": "code",
   "execution_count": null,
   "metadata": {},
   "outputs": [],
   "source": [
    "testing_df"
   ]
  },
  {
   "cell_type": "code",
   "execution_count": null,
   "metadata": {},
   "outputs": [],
   "source": [
    "date_test = '2021-01-04'"
   ]
  },
  {
   "cell_type": "code",
   "execution_count": null,
   "metadata": {},
   "outputs": [],
   "source": [
    "testing_df['date_as_of'] = date_test"
   ]
  },
  {
   "cell_type": "code",
   "execution_count": null,
   "metadata": {},
   "outputs": [],
   "source": [
    "testing_df"
   ]
  },
  {
   "cell_type": "code",
   "execution_count": null,
   "metadata": {},
   "outputs": [],
   "source": [
    "testing_df.info()"
   ]
  },
  {
   "cell_type": "code",
   "execution_count": null,
   "metadata": {},
   "outputs": [],
   "source": []
  },
  {
   "cell_type": "code",
   "execution_count": null,
   "metadata": {},
   "outputs": [],
   "source": []
  },
  {
   "cell_type": "code",
   "execution_count": null,
   "metadata": {},
   "outputs": [],
   "source": []
  },
  {
   "cell_type": "code",
   "execution_count": null,
   "metadata": {},
   "outputs": [],
   "source": []
  }
 ],
 "metadata": {
  "kernelspec": {
   "display_name": "Python 3",
   "language": "python",
   "name": "python3"
  },
  "language_info": {
   "codemirror_mode": {
    "name": "ipython",
    "version": 3
   },
   "file_extension": ".py",
   "mimetype": "text/x-python",
   "name": "python",
   "nbconvert_exporter": "python",
   "pygments_lexer": "ipython3",
   "version": "3.8.5"
  }
 },
 "nbformat": 4,
 "nbformat_minor": 4
}
